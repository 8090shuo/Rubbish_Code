{
 "cells": [
  {
   "cell_type": "code",
   "execution_count": 46,
   "metadata": {},
   "outputs": [],
   "source": [
    "from collections import Counter\n",
    "import matplotlib.pyplot as plt\n",
    "import os"
   ]
  },
  {
   "cell_type": "code",
   "execution_count": 56,
   "metadata": {},
   "outputs": [],
   "source": [
    "# Get all the data file in filelist\n",
    "# os.chdir('./data')\n",
    "mydir = os.getcwd()\n",
    "\n",
    "filelist = []\n",
    "for _,_,files in os.walk(mydir):\n",
    "#     print(files)\n",
    "    for file in files:\n",
    "        if os.path.splitext(file)[1] == '.dat':\n",
    "            filelist.append(file)"
   ]
  },
  {
   "cell_type": "code",
   "execution_count": 59,
   "metadata": {},
   "outputs": [
    {
     "name": "stdout",
     "output_type": "stream",
     "text": [
      "with_telosb_outside_right_20m_7.31.dat: Rssi Value,total number: [(-77, 40), (-78, 27), (-91, 21), (-76, 19), (-75, 15), (-79, 9), (-80, 6), (-74, 6), (-90, 4), (-67, 3), (-73, 3), (-81, 2), (-41, 1), (-88, 1), (-69, 1), (-71, 1), (-65, 1), (-64, 1), (-50, 1)]\n"
     ]
    }
   ],
   "source": [
    "def count_rssi(filename):\n",
    "    \n",
    "    # open file\n",
    "    with open(filename) as fr:\n",
    "        # read file\n",
    "        arrayOlines = fr.readlines()\n",
    "        # data num\n",
    "        numberOfLines = len(arrayOlines)\n",
    "\n",
    "    # most common word list and appearence\n",
    "    commonword_num = []\n",
    "    RssiList=[]\n",
    "    # read every line\n",
    "    for line in arrayOlines:\n",
    "        line = line.strip()\n",
    "        listFromLine = line.split(' ')\n",
    "        # get the most common Rssi Value in each packet\n",
    "        temp_commonword = Counter(listFromLine).most_common()[0]\n",
    "        commonword_num.append(temp_commonword)\n",
    "        # compute Rssi Value and add it to list \n",
    "        intRssi = int(temp_commonword[0],16)\n",
    "        Rssi = intRssi-255-45 if intRssi>127 else intRssi-45\n",
    "        RssiList.append(Rssi)\n",
    "    print('{0}: Rssi Value,total number: {1}'.format(filename, Counter(RssiList).most_common()))\n",
    "    # print(commonword_num)\n",
    "    \n",
    "# count_rssi('with_telosb_outside_right_20m_7.31.dat')"
   ]
  },
  {
   "cell_type": "code",
   "execution_count": 60,
   "metadata": {},
   "outputs": [
    {
     "name": "stdout",
     "output_type": "stream",
     "text": [
      "without_telosb.dat: Rssi Value,total number: [(-83, 30), (-84, 17), (-86, 9), (-87, 7), (-82, 5), (-85, 3)]\n",
      "without_telosb_outside_7.31.dat: Rssi Value,total number: [(-87, 151), (-88, 35), (-86, 19), (-83, 8), (-52, 7), (-74, 5), (-85, 4), (-75, 3), (-84, 3), (-54, 1)]\n",
      "without_telosb_outside_chamberroom_withoutdoor.dat: Rssi Value,total number: [(-87, 118), (-86, 13), (-88, 6), (-85, 1), (-82, 1), (-71, 1), (-25, 1), (-51, 1), (-52, 1)]\n",
      "without_telosb_outside_right_7.31.dat: Rssi Value,total number: [(-91, 151), (-90, 6), (-89, 2), (-87, 2), (-58, 1), (-80, 1), (-69, 1)]\n",
      "with_telosb.dat: Rssi Value,total number: [(-42, 50), (-43, 47), (-84, 9), (-41, 8), (-85, 3), (-83, 1), (-45, 1)]\n",
      "with_telosb_chamber_0.1m_7.31.dat: Rssi Value,total number: [(-33, 50), (-34, 43), (-38, 27), (-36, 27), (-35, 12), (-37, 11), (-81, 7), (-79, 4), (-82, 4), (-78, 3), (-83, 2), (-40, 1), (-84, 1), (-76, 1), (-80, 1)]\n",
      "with_telosb_chamber_2m_7.31.dat: Rssi Value,total number: [(-42, 76), (-43, 49), (-45, 41), (-89, 13), (-84, 12), (-85, 11), (-48, 11), (-88, 7), (-86, 4), (-46, 4), (-83, 2), (-82, 1), (-50, 1)]\n",
      "with_telosb_chamber_5m_7.31.dat: Rssi Value,total number: [(-37, 35), (-33, 19), (-36, 11), (-79, 4), (-86, 4), (-32, 3), (-82, 2), (-83, 1)]\n",
      "with_telosb_chamber_7.31.dat: Rssi Value,total number: [(-39, 29), (-41, 27), (-43, 25), (-37, 21), (-45, 19), (-40, 15), (-38, 12), (-49, 8), (-80, 7), (-42, 7), (-81, 6), (-79, 5), (-82, 5), (-44, 4), (-52, 4), (-50, 4), (-53, 4), (-46, 4), (-57, 3), (-85, 2), (-84, 1), (-77, 1), (-87, 1)]\n",
      "with_telosb_outside_0.1m_7.31.dat: Rssi Value,total number: [(-58, 33), (-57, 28), (-49, 12), (-86, 12), (-51, 8), (-45, 8), (-56, 7), (-87, 6), (-46, 4), (-52, 4), (-55, 4), (-48, 3), (-85, 1), (-23, 1), (-53, 1), (-83, 1), (-61, 1), (-60, 1)]\n",
      "with_telosb_outside_10m_7.31.dat: Rssi Value,total number: [(-43, 90), (-65, 59), (-64, 44), (-63, 23), (-42, 22), (-84, 12), (-91, 12), (-66, 11), (-83, 6), (-90, 6), (-46, 4), (-62, 4), (-61, 3), (-87, 2), (-57, 2), (-38, 2), (-58, 2), (-79, 1), (-78, 1), (-73, 1), (-59, 1), (-82, 1), (-89, 1), (-85, 1)]\n",
      "with_telosb_outside_2.5m_7.31.dat: Rssi Value,total number: [(-58, 42), (-57, 34), (-59, 22), (-91, 20), (-56, 15), (-53, 8), (-54, 4), (-90, 1), (-52, 1), (-82, 1), (-50, 1), (-83, 1)]\n",
      "with_telosb_outside_5m_7.31.dat: Rssi Value,total number: [(-76, 32), (-77, 25), (-75, 25), (-91, 21), (-78, 11), (-63, 8), (-68, 8), (-72, 4), (-64, 3), (-70, 3), (-84, 3), (-57, 1), (-59, 1), (-90, 1), (-60, 1)]\n",
      "with_telosb_outside_right_10m_7.31.dat: Rssi Value,total number: [(-67, 66), (-68, 34), (-69, 34), (-91, 25), (-65, 11), (-66, 7), (-71, 4), (-64, 3), (-70, 3), (-52, 2), (-51, 1), (-26, 1), (-84, 1), (-50, 1), (-88, 1)]\n",
      "with_telosb_outside_right_15m_7.31.dat: Rssi Value,total number: [(-91, 44), (-70, 18), (-79, 16), (-75, 16), (-78, 15), (-84, 11), (-82, 10), (-73, 9), (-77, 8), (-74, 7), (-68, 7), (-80, 7), (-71, 6), (-33, 6), (-76, 5), (-69, 4), (-86, 4), (-85, 3), (-39, 2), (-24, 1), (-25, 1), (-90, 1), (-63, 1), (-50, 1), (-67, 1)]\n",
      "with_telosb_outside_right_20m_7.31.dat: Rssi Value,total number: [(-77, 40), (-78, 27), (-91, 21), (-76, 19), (-75, 15), (-79, 9), (-80, 6), (-74, 6), (-90, 4), (-67, 3), (-73, 3), (-81, 2), (-41, 1), (-88, 1), (-69, 1), (-71, 1), (-65, 1), (-64, 1), (-50, 1)]\n"
     ]
    }
   ],
   "source": [
    "for file in filelist:\n",
    "    count_rssi(file)"
   ]
  },
  {
   "cell_type": "code",
   "execution_count": 15,
   "metadata": {},
   "outputs": [
    {
     "data": {
      "text/plain": [
       "-42"
      ]
     },
     "execution_count": 15,
     "metadata": {},
     "output_type": "execute_result"
    }
   ],
   "source": [
    "int('03',16)-45"
   ]
  },
  {
   "cell_type": "code",
   "execution_count": 5,
   "metadata": {},
   "outputs": [
    {
     "data": {
      "text/plain": [
       "-45"
      ]
     },
     "execution_count": 5,
     "metadata": {},
     "output_type": "execute_result"
    }
   ],
   "source": [
    "int('FF',16)-255-45"
   ]
  },
  {
   "cell_type": "markdown",
   "metadata": {},
   "source": [
    "# chamber\n",
    "with_telosb.dat: Rssi Value,total number: [(-42, 50), (-43, 47), (-84, 9), (-41, 8), (-85, 3), (-83, 1), (-45, 1)]\n",
    "\n",
    "without_telosb.dat: Rssi Value,total number: [(-83, 30), (-84, 17), (-86, 9), (-87, 7), (-82, 5), (-85, 3)]\n",
    "\n",
    "with_telosb_chamber_0.1m_7.31.dat: Rssi Value,total number: [(-33, 50), (-34, 43), (-38, 27), (-36, 27), (-35, 12), (-37, 11), (-81, 7), (-79, 4), (-82, 4), (-78, 3), (-83, 2), (-40, 1), (-84, 1), (-76, 1), (-80, 1)]\n",
    "\n",
    "with_telosb_chamber_2m_7.31.dat: Rssi Value,total number: [(-37, 35), (-33, 19), (-36, 11), (-79, 4), (-86, 4), (-32, 3), (-82, 2), (-83, 1)]\n",
    "\n",
    "with_telosb_chamber_5m_7.31.dat: Rssi Value,total number: [(-42, 76), (-43, 49), (-45, 41), (-89, 13), (-84, 12), (-85, 11), (-48, 11), (-88, 7), (-86, 4), (-46, 4), (-83, 2), (-82, 1), (-50, 1)]\n",
    "\n",
    "# outside\n",
    "without_telosb_outside_chamberroom_withoutdoor.dat: Rssi Value,total number: [(-87, 118), (-86, 13), (-88, 6), (-85, 1), (-82, 1), (-71, 1), (-25, 1), (-51, 1), (-52, 1)]\n",
    "\n",
    "without_telosb_outside_7.31.dat: Rssi Value,total number: [(-87, 151), (-88, 35), (-86, 19), (-83, 8), (-52, 7), (-74, 5), (-85, 4), (-75, 3), (-84, 3), (-54, 1)]\n",
    "\n",
    "without_telosb_outside_right_7.31.dat: Rssi Value,total number: [(-91, 151), (-90, 6), (-89, 2), (-87, 2), (-58, 1), (-80, 1), (-69, 1)]\n",
    "\n",
    "with_telosb_outside_0.1m_7.31.dat: Rssi Value,total number: [(-58, 33), (-57, 28), (-49, 12), (-86, 12), (-51, 8), (-45, 8), (-56, 7), (-87, 6), (-46, 4), (-52, 4), (-55, 4), (-48, 3), (-85, 1), (-23, 1), (-53, 1), (-83, 1), (-61, 1), (-60, 1)]\n",
    "\n",
    "with_telosb_outside_2.5m_7.31.dat: Rssi Value,total number: [(-58, 42), (-57, 34), (-59, 22), (-91, 20), (-56, 15), (-53, 8), (-54, 4), (-90, 1), (-52, 1), (-82, 1), (-50, 1), (-83, 1)]\n",
    "\n",
    "with_telosb_outside_5m_7.31.dat: Rssi Value,total number: [(-76, 32), (-77, 25), (-75, 25), (-91, 21), (-78, 11), (-63, 8), (-68, 8), (-72, 4), (-64, 3), (-70, 3), (-84, 3), (-57, 1), (-59, 1), (-90, 1), (-60, 1)]\n",
    "\n",
    "with_telosb_outside_10m_7.31.dat: Rssi Value,total number: [(-43, 90), (-65, 59), (-64, 44), (-63, 23), (-42, 22), (-84, 12), (-91, 12), (-66, 11), (-83, 6), (-90, 6), (-46, 4), (-62, 4), (-61, 3), (-87, 2), (-57, 2), (-38, 2), (-58, 2), (-79, 1), (-78, 1), (-73, 1), (-59, 1), (-82, 1), (-89, 1), (-85, 1)]\n",
    "\n",
    "with_telosb_outside_right_10m_7.31.dat: Rssi Value,total number: [(-67, 66), (-68, 34), (-69, 34), (-91, 25), (-65, 11), (-66, 7), (-71, 4), (-64, 3), (-70, 3), (-52, 2), (-51, 1), (-26, 1), (-84, 1), (-50, 1), (-88, 1)]\n",
    "\n",
    "with_telosb_outside_right_15m_7.31.dat: Rssi Value,total number: [(-91, 44), (-70, 18), (-79, 16), (-75, 16), (-78, 15), (-84, 11), (-82, 10), (-73, 9), (-77, 8), (-74, 7), (-68, 7), (-80, 7), (-71, 6), (-33, 6), (-76, 5), (-69, 4), (-86, 4), (-85, 3), (-39, 2), (-24, 1), (-25, 1), (-90, 1), (-63, 1), (-50, 1), (-67, 1)]\n",
    "\n",
    "with_telosb_outside_right_20m_7.31.dat: Rssi Value,total number: [(-77, 40), (-78, 27), (-91, 21), (-76, 19), (-75, 15), (-79, 9), (-80, 6), (-74, 6), (-90, 4), (-67, 3), (-73, 3), (-81, 2), (-41, 1), (-88, 1), (-69, 1), (-71, 1), (-65, 1), (-64, 1), (-50, 1)]"
   ]
  },
  {
   "cell_type": "code",
   "execution_count": 44,
   "metadata": {},
   "outputs": [
    {
     "data": {
      "image/png": "[encoded data removed]",
      "text/plain": [
       "<Figure size 1152x360 with 1 Axes>"
      ]
     },
     "metadata": {
      "needs_background": "light"
     },
     "output_type": "display_data"
    },
    {
     "data": {
      "text/plain": [
       "<Figure size 432x288 with 0 Axes>"
      ]
     },
     "metadata": {},
     "output_type": "display_data"
    }
   ],
   "source": [
    "# in chamber\n",
    "plt.figure(figsize=(16,5))\n",
    "x = [1,2,5,10,15,20,30]\n",
    "y = [-49,-58,-75,-67,-82,-77,-87]\n",
    "plt.plot(x,y)\n",
    "plt.xticks([1,2,5,10,15,20,30],['0.1m','2.5m','5m','10m','15m','20m','no telosb'])\n",
    "plt.ylabel('Rssi Value(dBm)')\n",
    "plt.xlabel('Distance(m)')\n",
    "plt.title('Experiment outside')\n",
    "plt.show()\n",
    "plt.savefig('Experiment outside')\n"
   ]
  },
  {
   "cell_type": "code",
   "execution_count": 39,
   "metadata": {},
   "outputs": [
    {
     "data": {
      "image/png": "[encoded data removed]",
      "text/plain": [
       "<Figure size 432x288 with 1 Axes>"
      ]
     },
     "metadata": {
      "needs_background": "light"
     },
     "output_type": "display_data"
    }
   ],
   "source": [
    "x = [1,2,5,10]\n",
    "y = [-33, -37,-42,-87]\n",
    "plt.plot(x,y)\n",
    "plt.xticks([1,2,5,10],['0.1m','2.5m','5m','no telosb'])\n",
    "plt.ylabel('Rssi Value(dBm)')\n",
    "plt.xlabel('Distance(m)')\n",
    "plt.title('Experiment in chamber')\n",
    "plt.savefig('Experiment in chamber')"
   ]
  },
  {
   "cell_type": "code",
   "execution_count": null,
   "metadata": {},
   "outputs": [],
   "source": []
  }
 ],
 "metadata": {
  "kernelspec": {
   "display_name": "Python 3",
   "language": "python",
   "name": "python3"
  },
  "language_info": {
   "codemirror_mode": {
    "name": "ipython",
    "version": 3
   },
   "file_extension": ".py",
   "mimetype": "text/x-python",
   "name": "python",
   "nbconvert_exporter": "python",
   "pygments_lexer": "ipython3",
   "version": "3.7.3"
  }
 },
 "nbformat": 4,
 "nbformat_minor": 2
}
